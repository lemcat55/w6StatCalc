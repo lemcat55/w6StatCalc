{
  "nbformat": 4,
  "nbformat_minor": 0,
  "metadata": {
    "colab": {
      "provenance": [],
      "toc_visible": true,
      "authorship_tag": "ABX9TyPXgaaSMoDWJ52QPuZme+tD",
      "include_colab_link": true
    },
    "kernelspec": {
      "name": "python3",
      "display_name": "Python 3"
    },
    "language_info": {
      "name": "python"
    }
  },
  "cells": [
    {
      "cell_type": "markdown",
      "metadata": {
        "id": "view-in-github",
        "colab_type": "text"
      },
      "source": [
        "<a href=\"https://colab.research.google.com/github/lemcat55/w6StatCalc/blob/main/Week6_Regression.ipynb\" target=\"_parent\"><img src=\"https://colab.research.google.com/assets/colab-badge.svg\" alt=\"Open In Colab\"/></a>"
      ]
    },
    {
      "cell_type": "markdown",
      "source": [
        "# 1: Load libraries, read/enter data, define helper functions"
      ],
      "metadata": {
        "id": "Sq_03DhaWdYf"
      }
    },
    {
      "cell_type": "code",
      "source": [
        "import numpy as np\n",
        "import pandas as pd\n",
        "import scipy.stats as stats\n",
        "import matplotlib.pyplot as plt\n",
        "from sklearn.linear_model import LinearRegression\n",
        "from sklearn import feature_selection \n",
        "from sklearn import linear_model\n",
        "from scipy.stats import f\n",
        "import statsmodels.api as sm\n",
        "\n",
        "##########     to read data from a file:####################################### \n",
        "\n",
        "df=pd.read_csv(\"http://algorain.com/Courses/Statistics/w6/Passengers.csv\")\n",
        "independant='nPassengers'\n",
        "dependant='Cost'\n",
        "\n",
        "# to read from another file, uncomment the following three lines:\n",
        "#df=pd.read_csv(\"http://algorain.com/Courses/Statistics/w1/Project_Data_Set2.csv\")\n",
        "#independant='Calls (X1)'\n",
        "#dependant='Sales (Y)'\n",
        "\n",
        "# or these 3 lines:\n",
        "#df=pd.read_csv(\"http://algorain.com/Courses/Statistics/w6/RealEstate.csv\")\n",
        "#independant='Footage'\n",
        "#dependant='Price'\n",
        "\n",
        "#######               to enter data manually, use three following lines:\n",
        "#df = pd.DataFrame({'x':[1,12,9,6,4,3,2],'y':[10,4,4,5,7,7,9]})\n",
        "#independant='x'\n",
        "#dependant='y'\n",
        "################################################################################\n",
        "df = df.sort_values(by = independant)\n",
        "x=np.array(df[independant]).reshape((-1, 1))\n",
        "y=np.array(df[dependant])\n",
        "\n",
        "def cipi(b0,b1,SSxx,se,n,conf,xBar,x0):\n",
        "  y=b0+b1*x0\n",
        "  alpha=1-conf\n",
        "  t=stats.t.ppf(1-alpha/2,n-2,loc=0,scale=1)\n",
        "  d=1/n+(x0-xBar)*(x0-xBar)/SSxx\n",
        "  ci=[y-t*se*np.sqrt(d),y+t*se*np.sqrt(d)]\n",
        "  pi=[y-t*se*np.sqrt(1+d),y+t*se*np.sqrt(1+d)]\n",
        "  return [ci,pi]\n",
        "\n",
        "def stex(x,n):\n",
        "  xa=np.average(x)\n",
        "  n=len(x)\n",
        "  SSxx=((x-xa)*(x-xa)).sum()\n",
        "  return np.sqrt(SSxx/(n-1))\n",
        "def stexy(x,y,n):\n",
        "  xa=np.average(x)\n",
        "  ya=np.average(y)\n",
        "  n=len(y)\n",
        "  SSxx=((x-xa)*(x-xa)).sum()\n",
        "  SSyy=((y-ya)*(y-ya)).sum()\n",
        "  xy=(x-xa).T*(y-ya)\n",
        "  xysum=xy.sum()\n",
        "  se=np.sqrt((SSyy-xysum*xysum/SSxx)/(n-2))\n",
        "  return se\n",
        "def steSlope(x,y,yHat,n):\n",
        "  xa=np.average(x)\n",
        "  n=len(y)\n",
        "  SSxx=((x-xa)*(x-xa)).sum()\n",
        "  SSyy=((y-yHat)*(y-yHat)).sum()\n",
        "  return np.sqrt(SSyy/SSxx/(n-2))\n"
      ],
      "metadata": {
        "id": "C7w_Gx8rWy8f"
      },
      "execution_count": null,
      "outputs": []
    },
    {
      "cell_type": "markdown",
      "source": [
        "#2: Graph Linear Regression, test slope hypotheses, and find slope's condifencew interval"
      ],
      "metadata": {
        "id": "mCn7txYYWXQG"
      }
    },
    {
      "cell_type": "code",
      "source": [
        "##  Enter your data #################\n",
        "Claim='slope=0'\n",
        "alpha=0.05 # for hypotheses testing\n",
        "confSlope=0.95 # confidence level for slope\n",
        "##############\n",
        "conf=1-alpha\n",
        "model = LinearRegression().fit(x, y)\n",
        "y_pred = model.predict(x)\n",
        "plt.scatter(x, y, color=\"black\")\n",
        "plt.plot(x, y_pred, color=\"blue\", linewidth=3)\n",
        "plt.xlabel(independant)\n",
        "plt.ylabel(dependant)\n",
        "plt.show()\n",
        "\n",
        "m=6# display precission\n",
        "n=len(y)\n",
        "print('n:',n)\n",
        "b1=model.coef_[0]\n",
        "print('Slope:', np.round(b1,m))\n",
        "b0=model.intercept_\n",
        "print('y-intercept:', np.round(b0,m))\n",
        "print('Correlation Coefficient:',np.round(feature_selection.r_regression(x, y),m)[0])\n",
        "print('Coefficient of Determination:', np.round(model.score(x, y),m))\n",
        "ser=stexy(x,y,n)\n",
        "print (\"Standard Error, se= \",np.round(ser,m))\n",
        "sx=stex(x,n)\n",
        "print('Standard Error of x, sx=',np.round(sx,m))\n",
        "sy=stex(y,n)\n",
        "print('Standard Error of y, sy=',np.round(sy,m))\n",
        "sb=ser/(sx*np.sqrt(n-1))\n",
        "print('Standard Error of the Slope, sb=',np.round(sb,m))\n",
        "ts=b1/sb\n",
        "#print('Test statistic, ts =', ts)\n",
        "print('Claim: '+Claim)\n",
        "print('alpha=',alpha)\n",
        "p1=stats.t.cdf(ts,n-2)\n",
        "p2=1-p1\n",
        "p12=2*p2#two-sided\n",
        "if p12>1: p12=1\n",
        "signs=[\"<=\",\">=\",\"!=\",\"=\",\"<\",\">\",\"\"]\n",
        "for sign in signs:\n",
        "  pr=Claim.split(sign)\n",
        "  if len(pr)==2: \n",
        "    break\n",
        "mup=pr[0].strip()\n",
        "value=pr[1].strip()\n",
        "if sign=='=' or sign==\"!=\":\n",
        "  H0='H0: slope='+value\n",
        "  H1='H1: slope!='+value\n",
        "  t1=stats.t.ppf(alpha/2,n-2,loc=0,scale=1)\n",
        "  t2=-t1\n",
        "  pValue=p12\n",
        "elif sign=='<' or sign=='>=':\n",
        "  H0='H0: slope>='+value\n",
        "  H1='H1: slope<'+value\n",
        "  t1=stats.t.ppf(alpha,n-2,loc=0,scale=1)\n",
        "  t2='inf'\n",
        "  pValue=p1\n",
        "else: \n",
        "  H0='H0: slope<='+value\n",
        "  H1='H1: slope>'+value\n",
        "  t1='-inf'\n",
        "  t2=stats.t.ppf(1-alpha,n-2,loc=0,scale=1)\n",
        "  pValue=p2\n",
        "\n",
        "print(H0)\n",
        "print(H1)\n",
        "print('Test Statistic, ts =',ts)\n",
        "print(\"Nonrejection region = [\",t1,\",\",t2,\"]\")\n",
        "print('pValue=',pValue)\n",
        "if pValue<alpha: print('Reject H0')\n",
        "else: print('Fail to reject H0')\n",
        "x1=stats.t.ppf((1-confSlope)/2,n-2,loc=b1,scale=sb)\n",
        "x2=stats.t.ppf((1+confSlope)/2,n-2,loc=b1,scale=sb)\n",
        "print('With confidence', confSlope)\n",
        "print('\\tlower slope limit =',np.round(x1,m))\n",
        "print('\\tupper slope limit =',np.round(x2,m))"
      ],
      "metadata": {
        "colab": {
          "base_uri": "https://localhost:8080/",
          "height": 626
        },
        "id": "qY0jMpAgrEB0",
        "outputId": "9dc756da-1307-4082-ac2b-f9ed49781551"
      },
      "execution_count": null,
      "outputs": [
        {
          "output_type": "display_data",
          "data": {
            "text/plain": [
              "<Figure size 432x288 with 1 Axes>"
            ],
            "image/png": "[encoded data removed]"
          },
          "metadata": {
            "needs_background": "light"
          }
        },
        {
          "output_type": "stream",
          "name": "stdout",
          "text": [
            "n: 12\n",
            "Slope: 0.040702\n",
            "y-intercept: 1.569793\n",
            "Correlation Coefficient: 0.9482\n",
            "Coefficient of Determination: 0.899084\n",
            "Standard Error, se=  0.177217\n",
            "Standard Error of x, sx= 12.391346\n",
            "Standard Error of y, sy= 0.5319\n",
            "Standard Error of the Slope, sb= 0.004312\n",
            "Claim: slope=0\n",
            "alpha= 0.05\n",
            "H0: slope=0\n",
            "H1: slope!=0\n",
            "Test Statistic, ts = 9.438865335182491\n",
            "Nonrejection region = [ -2.2281388519649385 , 2.2281388519649385 ]\n",
            "pValue= 2.691643621988149e-06\n",
            "Reject H0\n",
            "With confidence 0.95\n",
            "\tlower slope limit = 0.031094\n",
            "\tupper slope limit = 0.05031\n"
          ]
        }
      ]
    },
    {
      "cell_type": "markdown",
      "source": [
        "# 3: Graph Prediction and Confidence Intervals as functions of x; calculate them for given x0"
      ],
      "metadata": {
        "id": "eytyciqQ96I4"
      }
    },
    {
      "cell_type": "code",
      "source": [
        "##  Enter your data #################\n",
        "x0=160\n",
        "confCIPI=0.99 # confidence level for CI and PI\n",
        "##########################################\n",
        "x1=x\n",
        "x2 = sm.add_constant(x1) \n",
        "\n",
        "xa=np.average(x1)\n",
        "n=len(x1)\n",
        "xx=(x1-xa)*(x1-xa)\n",
        "SSxx=xx.sum()\n",
        "\n",
        "\n",
        "lower_p=[]\n",
        "upper_p=[]\n",
        "lower_c=[]\n",
        "upper_c=[]\n",
        "for e in x1:\n",
        "  cp=cipi(b0,b1,SSxx,ser,n,confCIPI,xa,e[0])\n",
        "  lower_p.append(cp[1][0])\n",
        "  upper_p.append(cp[1][1])\n",
        "  lower_c.append(cp[0][0])\n",
        "  upper_c.append(cp[0][1])\n",
        " \n",
        "plt.plot(x, lower_c, color=\"blue\", linewidth=2,label='Confidence')\n",
        "plt.plot(x, upper_c, color=\"blue\", linewidth=2)\n",
        "plt.plot(x, lower_p, color=\"red\", linewidth=2, label='Prediction')\n",
        "plt.plot(x, upper_p, color=\"red\", linewidth=2)\n",
        "#plt.plot(x, y_pred, color=\"black\", linewidth=0.5, label='Regression')\n",
        "plt.plot(x, y, color=\"orange\", linewidth=1, label='Observed')\n",
        "plt.scatter(x, y, color=\"black\")\n",
        "plt.legend(loc=\"upper left\")\n",
        "plt.xlabel(independant)\n",
        "plt.ylabel(dependant)\n",
        "plt.show()\n",
        "cp=cipi(b0,b1,SSxx,ser,n,confCIPI,xa,x0)\n",
        "print('x0=',x0)\n",
        "print('Confidence level:',confCIPI)\n",
        "print('Confidence Interval=',cp[0])\n",
        "print('Prediction Interval=',cp[1])"
      ],
      "metadata": {
        "colab": {
          "base_uri": "https://localhost:8080/",
          "height": 348
        },
        "id": "N-4XFK_wojgE",
        "outputId": "563a3c9d-2503-46fc-aa75-eab45411243d"
      },
      "execution_count": null,
      "outputs": [
        {
          "output_type": "display_data",
          "data": {
            "text/plain": [
              "<Figure size 432x288 with 1 Axes>"
            ],
            "image/png": "[encoded data removed]"
          },
          "metadata": {
            "needs_background": "light"
          }
        },
        {
          "output_type": "stream",
          "name": "stdout",
          "text": [
            "x0= 160\n",
            "Confidence level: 0.99\n",
            "Confidence Interval= [42.769597791081054, 44.5694570754106]\n",
            "Prediction Interval= [34.64247556280017, 52.69657930369148]\n"
          ]
        }
      ]
    },
    {
      "cell_type": "markdown",
      "source": [
        "# 4: Calculate Prediction and Confidence Intervals for a given set of parramrters"
      ],
      "metadata": {
        "id": "qmuAgjmz1XSI"
      }
    },
    {
      "cell_type": "code",
      "source": [
        "##  Enter your data #################\n",
        "b0=5.23 # y-intercept\n",
        "b1=2.74 # slope\n",
        "SSxx=55.87 \n",
        "se=10.71 #standard error\n",
        "n=24\n",
        "conf=0.90 # level of confidence\n",
        "xBar=12.56 # mean of the sample x\n",
        "x0=11 # point of interest\n",
        "######################################\n",
        "def cipi(b0,b1,SSxx,se,n,conf,xBar,x0):\n",
        "  y=b0+b1*x0\n",
        "  alpha=1-conf\n",
        "  t=stats.t.ppf(1-alpha/2,n-2,loc=0,scale=1)\n",
        "  d=1/n+(x0-xBar)*(x0-xBar)/SSxx\n",
        "  ci=[y-t*se*np.sqrt(d),y+t*se*np.sqrt(d)]\n",
        "  pi=[y-t*se*np.sqrt(1+d),y+t*se*np.sqrt(1+d)]\n",
        "  return [ci,pi]\n",
        "\n",
        "cp=cipi(b0,b1,SSxx,se,n,conf,xBar,x0)\n",
        "print('Confidence Interval=',cp[0])\n",
        "print('Prediction Interval=',cp[1])\n"
      ],
      "metadata": {
        "colab": {
          "base_uri": "https://localhost:8080/"
        },
        "id": "WGagATiA35CR",
        "outputId": "3b248f5e-33b9-483f-d20f-3fcc0bc8c0d4"
      },
      "execution_count": null,
      "outputs": [
        {
          "output_type": "stream",
          "name": "stdout",
          "text": [
            "Confidence Interval= [30.0011706381255, 40.73882936187451]\n",
            "Prediction Interval= [16.21173560164092, 54.528264398359084]\n"
          ]
        }
      ]
    },
    {
      "cell_type": "markdown",
      "source": [
        "# 5: 1-D ANOVA"
      ],
      "metadata": {
        "id": "hJ7G2QXKOZRH"
      }
    },
    {
      "cell_type": "code",
      "source": [
        "import pandas as pd \n",
        "import numpy as np \n",
        "from sklearn import linear_model\n",
        "from scipy.stats import f\n",
        "##  Enter your data #####################################################\n",
        "df=pd.read_csv(\"http://algorain.com/Courses/Statistics/w1/Project_Data_Set2.csv\")\n",
        "sIndependant='Calls (X1)'\n",
        "sDependant='Sales (Y)'\n",
        "point_of_interest=[160.]\n",
        "#########################################################################\n",
        "X = df[[sIndependant]]\n",
        "y1 = df[sDependant]\n",
        "print(df.head())\n",
        "print('(rows,cols) =',df.shape)\n",
        "m=6 # display pesicion\n",
        "k =X.shape[1]\n",
        "n=X.shape[0]\n",
        "yBar=y1.mean()\n",
        "model = linear_model.LinearRegression()\n",
        "model.fit(X, y1)\n",
        "b1=model.coef_\n",
        "b0=model.intercept_\n",
        "pred_col=model.predict(X)\n",
        "SSR=((pred_col-yBar)**2).sum()\n",
        "dy=df[sDependant]-pred_col\n",
        "SSE=(dy**2).sum()\n",
        "MSE=SSE/(n-k-1)\n",
        "se=np.sqrt(MSE)\n",
        "R2=SSR/(SSR+SSE)\n",
        "R=np.sqrt(R2)\n",
        "AdjR2=1-SSE*(n-1)/((SSR+SSE)*(n-k-1))\n",
        "print('\\nSUMMARY OUTPUT\\n')\n",
        "print('Regression Statistics')\n",
        "print('Multiple R:\\t', R)\n",
        "print('R square:\\t', R2)\n",
        "print('Adjasted R:\\t', AdjR2)\n",
        "print('Observations:\\t', n)\n",
        "print('\\nANOVA')\n",
        "MSR=SSR/k\n",
        "MSE=SSE/(n-k-1)\n",
        "F=MSR/MSE\n",
        "p = 1 - f.cdf(F,k,n-k-1)\n",
        "d={'':['Regression','Residual','Total'],\\\n",
        "   'df':[k,\tn-k-1, n-1],\\\n",
        "   'SS':[str(np.round(SSR,m)),str(np.round(SSE,m)),str(np.round(SSE+SSR,m))],\\\n",
        "   'MS':[str(np.round(MSR,m)),str(np.round(MSE,m)),''],\\\n",
        "   'F':[str(np.round(F,m)),'',''],\\\n",
        "   'Significance':[str(np.round(p,2*m)),'','']}\n",
        "df = pd.DataFrame(d) \n",
        "print(df)\n",
        "s='\\nModel: '+dependant+\" = \"+str(np.round(b0,m))\n",
        "i=0\n",
        "for col in X.columns:\n",
        "    s+=' + ('+str(np.round(b1[i],m))+') * '+col\n",
        "    i+=1\n",
        "print(s)\n",
        "print('\\nFor X =', point_of_interest,'  Y =',b0+(b1*point_of_interest).sum())"
      ],
      "metadata": {
        "colab": {
          "base_uri": "https://localhost:8080/"
        },
        "id": "EpA_hgpzOlRb",
        "outputId": "acf3bef6-9ccf-4351-b00f-42baf3ba30d0"
      },
      "execution_count": null,
      "outputs": [
        {
          "output_type": "stream",
          "name": "stdout",
          "text": [
            "   Sales (Y)  Calls (X1)  Time (X2)  Years (X3)    Type\n",
            "0         21         116       19.9           3    NONE\n",
            "1         21         116       18.0           2   GROUP\n",
            "2         31         118       19.4           4  ONLINE\n",
            "3         33         125       16.9           2  ONLINE\n",
            "4         32         129       18.5           2   GROUP\n",
            "(rows,cols) = (100, 5)\n",
            "\n",
            "SUMMARY OUTPUT\n",
            "\n",
            "Regression Statistics\n",
            "Multiple R:\t 0.8360780040937277\n",
            "R square:\t 0.6990264289293513\n",
            "Adjasted R:\t 0.6959552700408753\n",
            "Observations:\t 100\n",
            "\n",
            "ANOVA\n",
            "               df           SS           MS           F Significance\n",
            "0  Regression   1  2661.018858  2661.018858  227.609985          0.0\n",
            "1    Residual  98  1145.731142    11.691134                         \n",
            "2       Total  99      3806.75                                      \n",
            "\n",
            "Model: Cost = -1.176428 + (0.280287) * Calls (X1)\n",
            "\n",
            "For X = [160.0]   Y = 43.669527433245825\n"
          ]
        }
      ]
    }
  ]
}